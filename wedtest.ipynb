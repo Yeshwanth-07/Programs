{
 "cells": [
  {
   "cell_type": "code",
   "execution_count": 116,
   "metadata": {},
   "outputs": [],
   "source": [
    "from selenium import webdriver\n",
    "from selenium.webdriver.chrome.service import Service\n",
    "from selenium.webdriver.chrome.options import Options\n",
    "from rich.progress import track\n",
    "import pandas as pd"
   ]
  },
  {
   "cell_type": "code",
   "execution_count": 117,
   "metadata": {},
   "outputs": [
    {
     "data": {
      "application/vnd.jupyter.widget-view+json": {
       "model_id": "6651de26ff7b4b26849e00c4e7cdaac9",
       "version_major": 2,
       "version_minor": 0
      },
      "text/plain": [
       "Output()"
      ]
     },
     "metadata": {},
     "output_type": "display_data"
    },
    {
     "data": {
      "text/html": [
       "<pre style=\"white-space:pre;overflow-x:auto;line-height:normal;font-family:Menlo,'DejaVu Sans Mono',consolas,'Courier New',monospace\"></pre>\n"
      ],
      "text/plain": []
     },
     "metadata": {},
     "output_type": "display_data"
    },
    {
     "data": {
      "text/html": [
       "<pre style=\"white-space:pre;overflow-x:auto;line-height:normal;font-family:Menlo,'DejaVu Sans Mono',consolas,'Courier New',monospace\">\n",
       "</pre>\n"
      ],
      "text/plain": [
       "\n"
      ]
     },
     "metadata": {},
     "output_type": "display_data"
    }
   ],
   "source": [
    "driver_path = 'S:\\Software\\Driver\\chromedriver_win32\\chromedriver.exe'\n",
    "web_path = 'http://tg-inter-2nd-year-result.indiaresults.com/tg/bie-telangana/intermediate-2-year-gen-exam-result-2022/query.htm'\n",
    "opt = Options()\n",
    "opt.headless = True\n",
    "ser = Service(executable_path=driver_path)\n",
    "website = webdriver.Chrome(service=ser, options=opt)\n",
    "website.get(web_path)\n",
    "text_box = website.find_element(by='xpath', value='//*[@id=\"rollquery\"]/table/tbody/tr[1]/td[2]/input')\n",
    "find_result = website.find_element(by='xpath', value='//*[@id=\"rollquery\"]/table/tbody/tr[1]/td[3]/button')\n",
    "text_box.send_keys('2262207927')\n",
    "find_result.click()\n",
    "table = website.find_elements(by='xpath', value='//*[@id=\"table36\"]/tbody/tr[1]/td/table/tbody/tr')\n",
    "data = {}\n",
    "for index, row in track(enumerate(table)):\n",
    "  # print(index)\n",
    "  if index == 2 or index == 3 or index == 24:\n",
    "    data[row.find_element(by='xpath', value='./td[1]').text] = row.find_element(by='xpath', value='./td[2]/b').text\n",
    "  elif index == 25:\n",
    "    data['Final_' + row.find_element(by='xpath', value='./td[1]').text ] = row.find_element(by='xpath', value='./td[2]/b').text\n",
    "  elif index >= 7 and index <= 22 and len(row.find_element(by='xpath', value='./td[1]').text) != 0:\n",
    "    key = row.find_element(by='xpath', value='./td[1]').text\n",
    "    value = row.find_element(by='xpath', value='./td[2]').text\n",
    "    data[row.find_element(by='xpath', value='./td[1]').text + '_' + website.find_element(by='xpath', value='//*[@id=\"table36\"]/tbody/tr[1]/td/table/tbody/tr[6]/td[2]/b').text] = row.find_element(by='xpath', value='./td[2]').text\n",
    "    data[row.find_element(by='xpath', value='./td[1]').text + '_' + website.find_element(by='xpath', value='//*[@id=\"table36\"]/tbody/tr[1]/td/table/tbody/tr[6]/td[3]/b').text] = row.find_element(by='xpath', value='./td[3]').text\n",
    "    data[row.find_element(by='xpath', value='./td[1]').text + '_' + website.find_element(by='xpath', value='//*[@id=\"table36\"]/tbody/tr[1]/td/table/tbody/tr[6]/td[4]/b').text] = row.find_element(by='xpath', value='./td[4]').text\n",
    "website.quit()\n",
    "table = pd.DataFrame([data])\n",
    "table.index.names = ['S_No']\n",
    "table.index += 1 \n",
    "table.to_excel('s_result_data_temp.xlsx', sheet_name='Result')"
   ]
  }
 ],
 "metadata": {
  "kernelspec": {
   "display_name": "Python 3.10.2 64-bit",
   "language": "python",
   "name": "python3"
  },
  "language_info": {
   "codemirror_mode": {
    "name": "ipython",
    "version": 3
   },
   "file_extension": ".py",
   "mimetype": "text/x-python",
   "name": "python",
   "nbconvert_exporter": "python",
   "pygments_lexer": "ipython3",
   "version": "3.10.2"
  },
  "orig_nbformat": 4,
  "vscode": {
   "interpreter": {
    "hash": "369f2c481f4da34e4445cda3fffd2e751bd1c4d706f27375911949ba6bb62e1c"
   }
  }
 },
 "nbformat": 4,
 "nbformat_minor": 2
}
