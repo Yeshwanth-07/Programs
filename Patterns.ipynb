{
 "cells": [
  {
   "cell_type": "markdown",
   "id": "7d0bbd86",
   "metadata": {},
   "source": [
    "# Patterns"
   ]
  },
  {
   "cell_type": "markdown",
   "id": "9e4f6927",
   "metadata": {},
   "source": [
    "### Pattern 1: <hr>\n",
    "<pre font-family: Cascadia>\n",
    "Input 1: 3\n",
    "Output 1:\n",
    "    1 \n",
    "  2 1 2 \n",
    "3 2 1 2 3 \n",
    "  2 1 2 \n",
    "    1 \n",
    "Input 2: 5\n",
    "Output 2:\n",
    "        1 \n",
    "      2 1 2 \n",
    "    3 2 1 2 3 \n",
    "  4 3 2 1 2 3 4 \n",
    "5 4 3 2 1 2 3 4 5 \n",
    "  4 3 2 1 2 3 4 \n",
    "    3 2 1 2 3 \n",
    "      2 1 2 \n",
    "        1"
   ]
  },
  {
   "cell_type": "code",
   "execution_count": null,
   "id": "76eb1e7a",
   "metadata": {},
   "outputs": [],
   "source": [
    "Scanner sc = new Scanner(System.in);\n",
    "int num = sc.nextInt();\n",
    "for (int i = 1; i <= num; i++) {\n",
    "  for (int j = 0; j < num - i; j++) {\n",
    "    System.out.print(\"  \");\n",
    "  }\n",
    "  for (int k = i; k > 1; k--) {\n",
    "    System.out.print(k + \" \");\n",
    "  }\n",
    "  for (int l = 1; l <= i; l++) {\n",
    "    System.out.print(l + \" \");\n",
    "  }\n",
    "  System.out.println();\n",
    "}\n",
    "for (int i = num - 1; i > 0; i--) {\n",
    "  for (int j = 0; j < num - i; j++) {\n",
    "    System.out.print(\"  \");\n",
    "  }\n",
    "  for (int k = i; k > 1; k--) {\n",
    "    System.out.print(k + \" \");\n",
    "  }\n",
    "  for (int l = 1; l <= i; l++) {\n",
    "    System.out.print(l + \" \");\n",
    "  }\n",
    "  System.out.println();\n",
    "}"
   ]
  },
  {
   "cell_type": "markdown",
   "id": "3524c777",
   "metadata": {},
   "source": [
    "### Pattern 2: Reverse Floyd's Triangle<hr>\n",
    "<pre font-family: Cascadia>\n",
    "Input 1: 3\n",
    "Output 1:\n",
    "6 \n",
    "5 4 \n",
    "3 2 1\n",
    "Input 2: 4\n",
    "Output 2:\n",
    "10 \n",
    "9 8 \n",
    "7 6 5 \n",
    "4 3 2 1"
   ]
  },
  {
   "cell_type": "code",
   "execution_count": null,
   "id": "8c43c706",
   "metadata": {},
   "outputs": [],
   "source": [
    "Scanner sc = new Scanner(System.in);\n",
    "int num = sc.nextInt();\n",
    "int a = (num*(num + 1))/2;\n",
    "for (int row = 1; row <= num; row++) {\n",
    "  for (int col = 1; col <= row; col++) {\n",
    "    System.out.print(a + \" \");\n",
    "    a--;\n",
    "  }\n",
    "  System.out.println();\n",
    "}"
   ]
  },
  {
   "cell_type": "code",
   "execution_count": 5,
   "id": "614ddc6d",
   "metadata": {},
   "outputs": [
    {
     "name": "stdout",
     "output_type": "stream",
     "text": [
      "1 2 3 4 5 \n",
      " 2 3 4 5 \n",
      "  3 4 5 \n",
      "   4 5 \n",
      "    5 \n",
      "   4 5 \n",
      "  3 4 5 \n",
      " 2 3 4 5 \n",
      "1 2 3 4 5 \n"
     ]
    }
   ],
   "source": [
    "Scanner sc = new Scanner(System.in);\n",
    "// int num = sc.nextInt();\n",
    "int num = 5;\n",
    "for (int row = 1; row <= num; row++) {\n",
    "  for (int space = 1; space < row; space++) {\n",
    "    System.out.print(\" \");\n",
    "  }\n",
    "  for (int i = row; i <= num; i++) {\n",
    "    System.out.print(i  + \" \");\n",
    "  }\n",
    "  System.out.println();\n",
    "}\n",
    "for (int row = num - 1; row > 0; row--) {\n",
    "  for (int space = 1; space < row; space++) {\n",
    "    System.out.print(\" \");\n",
    "  }\n",
    "  for (int i = row; i <= num; i++) {\n",
    "    System.out.print(i  + \" \");\n",
    "  }\n",
    "  System.out.println();\n",
    "}"
   ]
  }
 ],
 "metadata": {
  "kernelspec": {
   "display_name": "Java",
   "language": "java",
   "name": "java"
  },
  "language_info": {
   "codemirror_mode": "java",
   "file_extension": ".jshell",
   "mimetype": "text/x-java-source",
   "name": "java",
   "pygments_lexer": "java",
   "version": "18.0.1.1+2-6"
  }
 },
 "nbformat": 4,
 "nbformat_minor": 5
}
