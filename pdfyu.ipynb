{
 "cells": [
  {
   "cell_type": "code",
   "execution_count": 31,
   "metadata": {},
   "outputs": [],
   "source": [
    "import camelot\n",
    "import pandas as pd\n",
    "import os\n",
    "\n",
    "if __name__ == \"__main__\":\n",
    "  Folderpath = 'S:\\\\Programming\\\\Python\\\\PyF\\\\School'\n",
    "  folderlist = os.listdir(Folderpath)\n",
    "  alldata = []\n",
    "  \n",
    "  for folder in folderlist:\n",
    "    file = os.path.join(Folderpath, folder, '__ Second Year Hall Ticket Download __.pdf')\n",
    "    if os.path.exists(file):\n",
    "      table = camelot.read_pdf(file, pages='1', flavor='stream')\n",
    "      table.export('alldata.xlsx', f= 'xlsx', compress=True)\n",
    "      table[0].to_excel('onedata.xlsx')\n",
    "      row = pd.read_excel('onedata.xlsx')\n",
    "      data = {}\n",
    "      try:\n",
    "        data['Name'] = row[2][7]\n",
    "        data['Father_name'] = row[2][9]\n",
    "        data['Mother_name'] = row[2][11]\n",
    "        data['Hall_ticket'] = row[2][5][0:10]\n",
    "        data['Center_code'] = row[2][15][:5]\n",
    "        data['Center_name'] = row[2][15][6:]\n",
    "        try:\n",
    "          data['center_name'] += row[2][17]\n",
    "        except:\n",
    "          pass\n",
    "      except:\n",
    "        data['Name'] = row[2][6]\n",
    "        data['Father_name'] = row[2][8]\n",
    "        data['Mother_name'] = row[2][10]\n",
    "        data['Hall_ticket'] = row[2][4][:10]\n",
    "        data['Center_code'] = row[2][13][:5]\n",
    "        data['Center_name'] = row[2][13][6:] + row[2][15]\n",
    "      alldata.append(data)\n",
    "  os.remove('onedata.xlsx')\n"
   ]
  },
  {
   "cell_type": "code",
   "execution_count": 76,
   "metadata": {},
   "outputs": [],
   "source": [
    "df = pd.DataFrame(alldata)\n",
    "df.index.names = ['S_No']\n",
    "df.index += 1 \n",
    "df = df.style.set_properties(subset=['Hall_ticket', 'Center_code'], **{'text-align': 'center'})\n",
    "df.to_excel('data.xlsx', sheet_name='Hall_Ticket')"
   ]
  },
  {
   "cell_type": "code",
   "execution_count": 70,
   "metadata": {},
   "outputs": [],
   "source": [
    "os.remove('data.xlsx')\n",
    "# import shutil\n",
    "\n",
    "# original = r'S:\\Programming\\Python\\PyF\\data.xlsx'\n",
    "# target = r'S:\\Programming\\Python\\PyF\\datacopy.xlsx'\n",
    "\n",
    "# shutil.copyfile(original, target)"
   ]
  }
 ],
 "metadata": {
  "kernelspec": {
   "display_name": "Python 3.10.2 64-bit",
   "language": "python",
   "name": "python3"
  },
  "language_info": {
   "codemirror_mode": {
    "name": "ipython",
    "version": 3
   },
   "file_extension": ".py",
   "mimetype": "text/x-python",
   "name": "python",
   "nbconvert_exporter": "python",
   "pygments_lexer": "ipython3",
   "version": "3.10.2"
  },
  "orig_nbformat": 4,
  "vscode": {
   "interpreter": {
    "hash": "369f2c481f4da34e4445cda3fffd2e751bd1c4d706f27375911949ba6bb62e1c"
   }
  }
 },
 "nbformat": 4,
 "nbformat_minor": 2
}
