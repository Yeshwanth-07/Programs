{
 "cells": [
  {
   "cell_type": "markdown",
   "metadata": {},
   "source": [
    "# Write a Java Program on following patterns"
   ]
  },
  {
   "cell_type": "markdown",
   "metadata": {},
   "source": [
    "## Pattern 1: Triangle Pattern 1"
   ]
  },
  {
   "cell_type": "markdown",
   "metadata": {},
   "source": [
    "**Input:**\n",
    "> `5`<br>\n",
    "\n",
    "**Output:**\n",
    ">`1`<br>\n",
    "`2 3`<br>\n",
    "`3 4 5`<br>\n",
    "`4 5 6 7`<br>\n",
    "`5 6 7 8 9`<br>"
   ]
  },
  {
   "cell_type": "code",
   "execution_count": 22,
   "metadata": {
    "vscode": {
     "languageId": "java"
    }
   },
   "outputs": [
    {
     "name": "stdout",
     "output_type": "stream",
     "text": [
      "1 \n",
      "2 3 \n",
      "3 4 5 \n",
      "4 5 6 7 \n",
      "5 6 7 8 9 \n"
     ]
    }
   ],
   "source": [
    "int num = sc.nextInt();\n",
    "for (int row = 1; row <= num; row++) {\n",
    "  for (int col = 1; col <= row; col++) {\n",
    "    System.out.print(row+col-1 + \" \");\n",
    "  }\n",
    "  System.out.println();\n",
    "}"
   ]
  },
  {
   "cell_type": "markdown",
   "metadata": {},
   "source": [
    "## Pattern 2: Triangle Pattern 2\n"
   ]
  },
  {
   "cell_type": "markdown",
   "metadata": {},
   "source": [
    "**Input:**\n",
    "> `5`<br>\n",
    "\n",
    "**Output:**\n",
    ">`1`<br>\n",
    "`2 2`<br>\n",
    "`3 3 3`<br>\n",
    "`4 4 4 4`<br>\n",
    "`5 5 5 5 5`<br>"
   ]
  },
  {
   "cell_type": "code",
   "execution_count": 21,
   "metadata": {
    "vscode": {
     "languageId": "java"
    }
   },
   "outputs": [
    {
     "name": "stdout",
     "output_type": "stream",
     "text": [
      "1 \n",
      "2 2 \n",
      "3 3 3 \n",
      "4 4 4 4 \n",
      "5 5 5 5 5 \n"
     ]
    }
   ],
   "source": [
    "int num = sc.nextInt();\n",
    "for (int row = 1; row <= num; row++) {\n",
    "  for (int col = 1; col <= row; col++) {\n",
    "    System.out.print(row + \" \");\n",
    "  }\n",
    "  System.out.println();\n",
    "}"
   ]
  },
  {
   "cell_type": "markdown",
   "metadata": {},
   "source": [
    "## Pattern 3: Square Pattern 1\n"
   ]
  },
  {
   "cell_type": "markdown",
   "metadata": {},
   "source": [
    "<pre>\n",
    "Input: 5\n",
    "Output:\n",
    "1   1\n",
    " 2 2\n",
    "  3\n",
    " 4 4\n",
    "5   5"
   ]
  },
  {
   "cell_type": "code",
   "execution_count": 19,
   "metadata": {
    "vscode": {
     "languageId": "java"
    }
   },
   "outputs": [
    {
     "name": "stdout",
     "output_type": "stream",
     "text": [
      "1   1\n",
      " 2 2 \n",
      "  3  \n",
      " 4 4 \n",
      "5   5\n"
     ]
    }
   ],
   "source": [
    "int num = sc.nextInt();\n",
    "int arr[][] = new int[num][num];\n",
    "int x = 0, y = 0;\n",
    "for (int i = 1; i <= num; i++) {\n",
    "  arr[x][y] = i;\n",
    "  x++;\n",
    "  y++;\n",
    "}\n",
    "x = 0;\n",
    "y = num - 1;\n",
    "for (int i = 1; i <= num; i++) {\n",
    "  arr[x][y] = i;\n",
    "  x++;\n",
    "  y--;\n",
    "}\n",
    "for (int i = 0; i < num; i++) {\n",
    "  for (int j = 0; j < num; j++) {\n",
    "    if (arr[i][j] == 0) {\n",
    "      System.out.print(\" \");\n",
    "    } else {\n",
    "      System.out.print(arr[i][j]);\n",
    "    }\n",
    "  }\n",
    "  System.out.println();\n",
    "}"
   ]
  },
  {
   "cell_type": "markdown",
   "metadata": {},
   "source": [
    "## Pattern 4: Square Pattern 2\n"
   ]
  },
  {
   "cell_type": "markdown",
   "metadata": {},
   "source": [
    "<pre>\n",
    "Input: 5\n",
    "Output:\n",
    "1   5\n",
    " 2 4\n",
    "  3\n",
    " 2 4\n",
    "1   5"
   ]
  },
  {
   "cell_type": "code",
   "execution_count": 20,
   "metadata": {
    "vscode": {
     "languageId": "java"
    }
   },
   "outputs": [
    {
     "name": "stdout",
     "output_type": "stream",
     "text": [
      "1   5\n",
      " 2 4 \n",
      "  3  \n",
      " 2 4 \n",
      "1   5\n"
     ]
    }
   ],
   "source": [
    "int num = sc.nextInt();\n",
    "int arr[][] = new int[num][num];\n",
    "int x = 0, y = 0;\n",
    "for (int i = 1; i <= num; i++) {\n",
    "  arr[x][y] = i;\n",
    "  x++;\n",
    "  y++;\n",
    "}\n",
    "x = num - 1;\n",
    "y = 0;\n",
    "for (int i = 1; i <= num; i++) {\n",
    "  arr[x][y] = i;\n",
    "  x--;\n",
    "  y++;\n",
    "}\n",
    "for (int i = 0; i < num; i++) {\n",
    "  for (int j = 0; j < num; j++) {\n",
    "    if (arr[i][j] == 0) {\n",
    "      System.out.print(\" \");\n",
    "    } else {\n",
    "      System.out.print(arr[i][j]);\n",
    "    }\n",
    "  }\n",
    "  System.out.println();\n",
    "}"
   ]
  },
  {
   "cell_type": "markdown",
   "metadata": {},
   "source": [
    "## Pattern 5: Square Pattern 3\n"
   ]
  },
  {
   "cell_type": "markdown",
   "metadata": {},
   "source": [
    "<pre>\n",
    "Input: 5\n",
    "Output:\n",
    "5   1\n",
    " 4 2\n",
    "  3\n",
    " 4 2\n",
    "5   1"
   ]
  },
  {
   "cell_type": "code",
   "execution_count": 25,
   "metadata": {
    "vscode": {
     "languageId": "java"
    }
   },
   "outputs": [
    {
     "name": "stdout",
     "output_type": "stream",
     "text": [
      "5   1\n",
      " 4 2 \n",
      "  3  \n",
      " 4 2 \n",
      "5   1\n"
     ]
    }
   ],
   "source": [
    "int num = sc.nextInt();\n",
    "int arr[][] = new int[num][num];\n",
    "int x = num - 1, y = num - 1;\n",
    "for (int i = 1; i <= num; i++) {\n",
    "  arr[x][y] = i;\n",
    "  x--;\n",
    "  y--;\n",
    "}\n",
    "x = 0;\n",
    "y = num - 1;\n",
    "for (int i = 1; i <= num; i++) {\n",
    "  arr[x][y] = i;\n",
    "  x++;\n",
    "  y--;\n",
    "}\n",
    "for (int i = 0; i < num; i++) {\n",
    "  for (int j = 0; j < num; j++) {\n",
    "    if (arr[i][j] == 0) {\n",
    "      System.out.print(\" \");\n",
    "    } else {\n",
    "      System.out.print(arr[i][j]);\n",
    "    }\n",
    "  }\n",
    "  System.out.println();\n",
    "}"
   ]
  },
  {
   "cell_type": "markdown",
   "metadata": {},
   "source": [
    "## Pattern 6: Square Pattern 4\n"
   ]
  },
  {
   "cell_type": "markdown",
   "metadata": {},
   "source": [
    "<pre>\n",
    "Input: 5\n",
    "Output:\n",
    "5   5\n",
    " 4 4\n",
    "  3\n",
    " 2 2\n",
    "1   1"
   ]
  },
  {
   "cell_type": "code",
   "execution_count": 24,
   "metadata": {
    "vscode": {
     "languageId": "java"
    }
   },
   "outputs": [
    {
     "name": "stdout",
     "output_type": "stream",
     "text": [
      "5   5\n",
      " 4 4 \n",
      "  3  \n",
      " 2 2 \n",
      "1   1\n"
     ]
    }
   ],
   "source": [
    "int num = sc.nextInt();\n",
    "int arr[][] = new int[num][num];\n",
    "int x = num - 1, y = num - 1;\n",
    "for (int i = 1; i <= num; i++) {\n",
    "  arr[x][y] = i;\n",
    "  x--;\n",
    "  y--;\n",
    "}\n",
    "x = num - 1;\n",
    "y = 0;\n",
    "for (int i = 1; i <= num; i++) {\n",
    "  arr[x][y] = i;\n",
    "  x--;\n",
    "  y++;\n",
    "}\n",
    "for (int i = 0; i < num; i++) {\n",
    "  for (int j = 0; j < num; j++) {\n",
    "    if (arr[i][j] == 0) {\n",
    "      System.out.print(\" \");\n",
    "    } else {\n",
    "      System.out.print(arr[i][j]);\n",
    "    }\n",
    "  }\n",
    "  System.out.println();\n",
    "}"
   ]
  },
  {
   "cell_type": "markdown",
   "metadata": {},
   "source": [
    "## Pattern 7: Number Piramid\n"
   ]
  },
  {
   "cell_type": "markdown",
   "metadata": {},
   "source": [
    "\n",
    "**Input:**\n",
    "> `5`<br>\n",
    "\n",
    "**Output:**\n",
    "\n",
    ">$\\;\\;\\;\\;\\;\\;\\;\\;\\;\\;\\;\\;\\;\\;\\; $`1`<br>\n",
    ">$\\;\\;\\;\\;\\;\\;\\;\\;\\;\\;\\;\\;$`2 1 2`<br>\n",
    ">$\\;\\;\\;\\;\\;\\;\\;\\;$`3 2 1 2 3`<br>\n",
    ">$\\;\\;\\;\\;$`4 3 2 1 2 3 4`<br>\n",
    ">`5 4 3 2 1 2 3 4 5`<br>"
   ]
  },
  {
   "cell_type": "code",
   "execution_count": 26,
   "metadata": {
    "vscode": {
     "languageId": "java"
    }
   },
   "outputs": [
    {
     "name": "stdout",
     "output_type": "stream",
     "text": [
      "    1\n",
      "   212\n",
      "  32123\n",
      " 4321234\n",
      "543212345\n"
     ]
    }
   ],
   "source": [
    "int num = sc.nextInt();\n",
    "for (int row = 1; row <= num; row++) {\n",
    "  for (int space = 1; space <= num - row; space++) {\n",
    "    System.out.print(\" \");\n",
    "  }\n",
    "  for (int left = row; left > 1; left--) {\n",
    "    System.out.print(left);\n",
    "  }\n",
    "  for (int right = 1; right <= row; right++) {\n",
    "    System.out.print(right);\n",
    "  }\n",
    "  System.out.println();\n",
    "}"
   ]
  },
  {
   "cell_type": "markdown",
   "metadata": {},
   "source": [
    "## Pattern 8: Heart Pattern\n"
   ]
  },
  {
   "cell_type": "markdown",
   "metadata": {},
   "source": [
    "<pre>\n",
    "Input: 4\n",
    "Output:\n",
    "   *       *\n",
    "  * *     * *\n",
    " * * *   * * *\n",
    "* * * * * * * *\n",
    " * * * * * * *\n",
    "  * * * * * *\n",
    "   * * * * *\n",
    "    * * * *\n",
    "     * * *\n",
    "      * *\n",
    "       *"
   ]
  },
  {
   "cell_type": "code",
   "execution_count": 27,
   "metadata": {
    "vscode": {
     "languageId": "java"
    }
   },
   "outputs": [
    {
     "name": "stdout",
     "output_type": "stream",
     "text": [
      "   *       * \n",
      "  * *     * * \n",
      " * * *   * * * \n",
      "* * * * * * * * \n",
      " * * * * * * * \n",
      "  * * * * * * \n",
      "   * * * * * \n",
      "    * * * * \n",
      "     * * * \n",
      "      * * \n",
      "       * \n"
     ]
    }
   ],
   "source": [
    "int num = sc.nextInt();\n",
    "for (int i = 1; i <= num; i++) {\n",
    "  for (int s = 1; s <= num - i; s++) {\n",
    "    System.out.print(\" \");\n",
    "  }\n",
    "  for (int t = 1; t <= i; t++) {\n",
    "    System.out.print(\"* \");\n",
    "  }\n",
    "  for (int g = 0; g < 2*(num - i); g++) {\n",
    "    System.out.print(\" \");\n",
    "  }\n",
    "  for (int t = 1; t <= i; t++) {\n",
    "    System.out.print(\"* \");\n",
    "  }\n",
    "  System.out.println();\n",
    "}\n",
    "for (int r = num*2-1; r > 0 ; r--) {\n",
    "  for (int q = num*2-r; q > 0; q--) {\n",
    "    System.out.print(\" \");\n",
    "  }\n",
    "  for (int o = 1; o <= r; o++) {\n",
    "    System.out.print(\"* \");\n",
    "  }\n",
    "  System.out.println();\n",
    "}"
   ]
  },
  {
   "cell_type": "markdown",
   "metadata": {},
   "source": [
    "## Pattern 9: Triangle \"L\" Pattern\n"
   ]
  },
  {
   "cell_type": "markdown",
   "metadata": {},
   "source": [
    "**Input:**\n",
    ">`5`<br>\n",
    "\n",
    "**Output:**\n",
    ">`1`<br>\n",
    "`1 2`<br>\n",
    "`1 2 3`<br>\n",
    "`1 2 2 2`<br>\n",
    "`1 1 1 1 1`<br>"
   ]
  },
  {
   "cell_type": "code",
   "execution_count": 28,
   "metadata": {
    "vscode": {
     "languageId": "java"
    }
   },
   "outputs": [
    {
     "name": "stdout",
     "output_type": "stream",
     "text": [
      "1\n",
      "12\n",
      "123\n",
      "1222\n",
      "11111\n"
     ]
    }
   ],
   "source": [
    "int num = sc.nextInt();\n",
    "for (int row = 1; row <= num; row++) {\n",
    "  for (int col = 1; col <= row; col++) {\n",
    "    int k = ((num%2 == 0)?(num/2):(num/2+1));\n",
    "    for (int sel = 1; sel <= k; sel++) {\n",
    "      if (sel == col || sel == num-row+1) {\n",
    "        System.out.print(sel + \" \");\n",
    "        break;\n",
    "      }\n",
    "    }\n",
    "  }\n",
    "  System.out.println();\n",
    "}"
   ]
  },
  {
   "cell_type": "markdown",
   "metadata": {},
   "source": [
    "## Pattern 10: Square Pattern\n"
   ]
  },
  {
   "cell_type": "markdown",
   "metadata": {},
   "source": [
    "**Input:**\n",
    "> `3`<br>\n",
    "\n",
    "**Output:**\n",
    ">`1 1 1`<br>\n",
    "`1 2 1`<br>\n",
    "`1 1 1`<br>"
   ]
  },
  {
   "cell_type": "code",
   "execution_count": 30,
   "metadata": {
    "vscode": {
     "languageId": "java"
    }
   },
   "outputs": [
    {
     "name": "stdout",
     "output_type": "stream",
     "text": [
      "1 1 1 \n",
      "1 2 1 \n",
      "1 1 1 \n"
     ]
    }
   ],
   "source": [
    "int num = sc.nextInt();\n",
    "for (int row = 1; row <= num; row++) {\n",
    "  for (int col = 1; col <= num; col++) {\n",
    "    int k = ((num%2 == 0)?(num/2):(num/2+1));\n",
    "    for (int sel = 1; sel <= k; sel++) {\n",
    "      if (sel == col || sel == num-row+1 || sel == num-col+1 || sel == row) {\n",
    "        System.out.print(sel + \" \");\n",
    "        break;\n",
    "      }\n",
    "    }\n",
    "  }\n",
    "  System.out.println();\n",
    "}"
   ]
  },
  {
   "cell_type": "markdown",
   "metadata": {},
   "source": [
    "## Pattern 11: Spiral Pattern\n",
    "\n"
   ]
  },
  {
   "cell_type": "markdown",
   "metadata": {},
   "source": [
    "\n",
    "**Input:**\n",
    "> `5`<br>\n",
    "\n",
    "**Output:**\n",
    ">`01 02 03 04 05`<br>\n",
    "`16 17 18 19 06`<br>\n",
    "`15 24 25 20 07`<br>\n",
    "`14 23 22 21 08`<br>\n",
    "`13 12 11 10 09`<br>"
   ]
  },
  {
   "cell_type": "code",
   "execution_count": 31,
   "metadata": {
    "vscode": {
     "languageId": "java"
    }
   },
   "outputs": [
    {
     "name": "stdout",
     "output_type": "stream",
     "text": [
      "01 02 03 04 05 \n",
      "16 17 18 19 06 \n",
      "15 24 25 20 07 \n",
      "14 23 22 21 08 \n",
      "13 12 11 10 09 \n"
     ]
    }
   ],
   "source": [
    "int num = sc.nextInt();\n",
    "int arr[][] = new int[num][num];\n",
    "int val = 1;\n",
    "for (int row = 0; row < ((num%2 == 0)?(num/2):(num/2+1)); row++) {\n",
    "  for (int i = row; i < num-row; i++) {\n",
    "    arr[row][i] = val;\n",
    "    val++;\n",
    "  }\n",
    "  for (int j = row+1; j < num-row; j++) {\n",
    "    arr[j][num-row-1] = val;\n",
    "    val++;\n",
    "  }\n",
    "  for (int k = num-row-2; k >= row; k--) {\n",
    "    arr[num-row-1][k] = val;\n",
    "    val++;\n",
    "  }\n",
    "  for (int l = num-row-2; l >= row+1; l--) {\n",
    "    arr[l][row] = val;\n",
    "    val++;\n",
    "  }\n",
    "}\n",
    "for (int x = 0; x < num; x++) {\n",
    "  for (int y = 0; y < num; y++) {\n",
    "    System.out.print(String.format(\"%02d\", arr[x][y]) + \" \");\n",
    "  }\n",
    "  System.out.println();\n",
    "}"
   ]
  },
  {
   "cell_type": "markdown",
   "metadata": {},
   "source": [
    "## Pattern 12: Pascal's Triangle Psttern\n"
   ]
  },
  {
   "cell_type": "markdown",
   "metadata": {},
   "source": [
    "<pre>\n",
    "Input: 6\n",
    "Output:\n",
    "          01\n",
    "        01  01\n",
    "      01  02  01\n",
    "    01  03  03  01\n",
    "  01  04  06  04  01\n",
    "01  05  10  10  05  01"
   ]
  },
  {
   "cell_type": "code",
   "execution_count": 33,
   "metadata": {
    "vscode": {
     "languageId": "java"
    }
   },
   "outputs": [
    {
     "name": "stdout",
     "output_type": "stream",
     "text": [
      "JHGF\n"
     ]
    },
    {
     "data": {
      "text/plain": [
       "0"
      ]
     },
     "execution_count": 33,
     "metadata": {},
     "output_type": "execute_result"
    }
   ],
   "source": [
    "int nCr(int n, int r) {\n",
    "  System.out.println(\"JHGF\");\n",
    "  return 0;\n",
    "}\n",
    "\n",
    "nCr(4,5);"
   ]
  }
 ],
 "metadata": {
  "kernelspec": {
   "display_name": "Java",
   "language": "java",
   "name": "java"
  },
  "language_info": {
   "codemirror_mode": "java",
   "file_extension": ".jshell",
   "mimetype": "text/x-java-source",
   "name": "Java",
   "pygments_lexer": "java",
   "version": "18.0.1.1+2-6"
  },
  "orig_nbformat": 4,
  "vscode": {
   "interpreter": {
    "hash": "369f2c481f4da34e4445cda3fffd2e751bd1c4d706f27375911949ba6bb62e1c"
   }
  }
 },
 "nbformat": 4,
 "nbformat_minor": 2
}
